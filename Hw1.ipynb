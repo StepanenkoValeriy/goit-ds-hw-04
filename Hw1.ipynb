{
 "cells": [
  {
   "cell_type": "code",
   "execution_count": 2,
   "metadata": {},
   "outputs": [
    {
     "name": "stdout",
     "output_type": "stream",
     "text": [
      "[0. 1. 2. 3. 4. 5. 6. 7. 8. 9.]\n"
     ]
    }
   ],
   "source": [
    "import numpy as np\n",
    "\n",
    "# 1. \n",
    "vect = np.array([0, 1, 2, 3, 4, 5, 6, 7, 8, 9], dtype=float)\n",
    "print(vect)"
   ]
  },
  {
   "cell_type": "code",
   "execution_count": 3,
   "metadata": {},
   "outputs": [
    {
     "name": "stdout",
     "output_type": "stream",
     "text": [
      "[[0. 0. 0.]\n",
      " [0. 0. 0.]\n",
      " [0. 0. 0.]]\n"
     ]
    }
   ],
   "source": [
    "#2. \n",
    "zero_matrix = np.zeros((3, 3))\n",
    "print(zero_matrix)\n"
   ]
  },
  {
   "cell_type": "code",
   "execution_count": 6,
   "metadata": {},
   "outputs": [
    {
     "name": "stdout",
     "output_type": "stream",
     "text": [
      "[[ 4  3 10  3  4]\n",
      " [ 8  9 10  2 10]\n",
      " [10  2  1  3 10]\n",
      " [10  1 10  3  7]\n",
      " [ 1  5  7  5  2]]\n"
     ]
    }
   ],
   "source": [
    "#3. \n",
    "rand_matrix_5x5 = np.random.randint(1, 11, size=(5, 5))\n",
    "print(rand_matrix_5x5)"
   ]
  },
  {
   "cell_type": "code",
   "execution_count": 7,
   "metadata": {},
   "outputs": [
    {
     "name": "stdout",
     "output_type": "stream",
     "text": [
      "[[0 0 0 1]\n",
      " [1 0 0 0]\n",
      " [1 1 1 1]\n",
      " [1 0 1 1]]\n"
     ]
    }
   ],
   "source": [
    "#4. \n",
    "random_matrix_4x4 = np.random.randint(0, 2, size=(4, 4))\n",
    "print(random_matrix_4x4)"
   ]
  },
  {
   "cell_type": "code",
   "execution_count": 8,
   "metadata": {},
   "outputs": [
    {
     "name": "stdout",
     "output_type": "stream",
     "text": [
      "[ 1 10  9  9  8]\n",
      "[7 6 4 7 3]\n",
      "Sum: [ 8 16 13 16 11]\n",
      "Difference: [-6  4  5  2  5]\n",
      "Multipli: [ 7 60 36 63 24]\n"
     ]
    }
   ],
   "source": [
    "# 5.  \n",
    "a = np.random.randint(1, 11, 5)\n",
    "b = np.random.randint(1, 11, 5)\n",
    "\n",
    "\n",
    "sum_array = a + b\n",
    "diff_array = a - b\n",
    "multipli_array = a * b\n",
    "\n",
    "print(a)\n",
    "print(b)\n",
    "print(f\"Sum: {sum_array}\")\n",
    "print(f\"Difference: {diff_array}\")\n",
    "print(f\"Multipli: {multipli_array}\")"
   ]
  },
  {
   "cell_type": "code",
   "execution_count": 10,
   "metadata": {},
   "outputs": [
    {
     "name": "stdout",
     "output_type": "stream",
     "text": [
      "Vector 1: [0.68469614 0.68092751 0.95155774 0.94073586 0.92450147 0.5803739\n",
      " 0.07396633]\n",
      "Vector 2: [0.1477599  0.05994076 0.20561601 0.72150361 0.27646399 0.58310517\n",
      " 0.29191576]\n",
      "Scalar multiplication: 1.631988100574588\n"
     ]
    }
   ],
   "source": [
    "# 6.\n",
    "vector1 = np.random.rand(7)\n",
    "vector2 = np.random.rand(7)\n",
    "\n",
    "scal_mlt = np.dot(vector1, vector2)\n",
    "\n",
    "print(f\"Vector 1: {vector1}\")\n",
    "print(f\"Vector 2: {vector2}\")\n",
    "print(f\"Scalar multiplication: {scal_mlt}\")"
   ]
  },
  {
   "cell_type": "code",
   "execution_count": 11,
   "metadata": {},
   "outputs": [
    {
     "name": "stdout",
     "output_type": "stream",
     "text": [
      "2x2 Matrix:\n",
      " [[3 2]\n",
      " [5 9]]\n",
      "2x3 Matrix:\n",
      " [[ 9 10  7]\n",
      " [ 7  9  7]]\n",
      "Dot Matrix:\n",
      " [[ 41  48  35]\n",
      " [108 131  98]]\n"
     ]
    }
   ],
   "source": [
    "#7. \n",
    "matrix_2x2 = np.random.randint(1, 11, (2, 2))\n",
    "matrix_2x3 = np.random.randint(1, 11, (2, 3))\n",
    "\n",
    "dot_matrix = np.dot(matrix_2x2, matrix_2x3)\n",
    "\n",
    "print(f\"2x2 Matrix:\\n {matrix_2x2}\")\n",
    "print(f\"2x3 Matrix:\\n {matrix_2x3}\")\n",
    "print(f\"Dot Matrix:\\n {dot_matrix}\")"
   ]
  },
  {
   "cell_type": "code",
   "execution_count": 12,
   "metadata": {},
   "outputs": [
    {
     "name": "stdout",
     "output_type": "stream",
     "text": [
      "3x3 Matrix:\n",
      " [[ 7  5  5]\n",
      " [ 7  5 10]\n",
      " [ 5  7  2]]\n",
      "Inverse Matrix:\n",
      " [[ 0.5        -0.20833333 -0.20833333]\n",
      " [-0.3         0.09166667  0.29166667]\n",
      " [-0.2         0.2         0.        ]]\n"
     ]
    }
   ],
   "source": [
    "#8. \n",
    "matrix_3x3 = np.random.randint(1, 11, (3, 3))\n",
    "\n",
    "\n",
    "inverse_matrix = np.linalg.inv(matrix_3x3)\n",
    "\n",
    "print(f\"3x3 Matrix:\\n {matrix_3x3}\")\n",
    "print(f\"Inverse Matrix:\\n {inverse_matrix}\")"
   ]
  },
  {
   "cell_type": "code",
   "execution_count": 13,
   "metadata": {},
   "outputs": [
    {
     "name": "stdout",
     "output_type": "stream",
     "text": [
      "4x4 Matrix:\n",
      " [[0.5885777  0.9862027  0.16952237 0.98799845]\n",
      " [0.76510769 0.51602134 0.10900346 0.55328418]\n",
      " [0.69022246 0.43072646 0.8991206  0.41100359]\n",
      " [0.62768929 0.38036537 0.13879339 0.41119384]]\n",
      "Transposed Matrix:\n",
      " [[0.5885777  0.76510769 0.69022246 0.62768929]\n",
      " [0.9862027  0.51602134 0.43072646 0.38036537]\n",
      " [0.16952237 0.10900346 0.8991206  0.13879339]\n",
      " [0.98799845 0.55328418 0.41100359 0.41119384]]\n"
     ]
    }
   ],
   "source": [
    "#9. \n",
    "matrix_4x4 = np.random.rand(4, 4)\n",
    "\n",
    "transposed_matrix = matrix_4x4.T\n",
    "\n",
    "print(f\"4x4 Matrix:\\n {matrix_4x4}\")\n",
    "print(f\"Transposed Matrix:\\n {transposed_matrix}\")"
   ]
  },
  {
   "cell_type": "code",
   "execution_count": 14,
   "metadata": {},
   "outputs": [
    {
     "name": "stdout",
     "output_type": "stream",
     "text": [
      "3x4 Matrix:\n",
      " [[ 5  5  1  3]\n",
      " [ 8  2  7  5]\n",
      " [10  2  3  7]]\n",
      "4-element Vector: [ 2  4  7 10]\n",
      "Dot Vector: [ 67 123 119]\n"
     ]
    }
   ],
   "source": [
    "#10. \n",
    "matrix_3x4 = np.random.randint(1, 11, (3, 4))\n",
    "vector_4 = np.random.randint(1, 11, 4)\n",
    "\n",
    "dot_vector = np.dot(matrix_3x4, vector_4)\n",
    "\n",
    "print(f\"3x4 Matrix:\\n {matrix_3x4}\")\n",
    "print(f\"4-element Vector: {vector_4}\")\n",
    "print(f\"Dot Vector: {dot_vector}\")"
   ]
  },
  {
   "cell_type": "code",
   "execution_count": 15,
   "metadata": {},
   "outputs": [
    {
     "name": "stdout",
     "output_type": "stream",
     "text": [
      "2x3 Matrix:\n",
      " [[0.62107476 0.17765079 0.70463469]\n",
      " [0.08116574 0.26144183 0.48836725]]\n",
      "3-element Vector: [0.73728058 0.05117868 0.26408537]\n",
      "Dot Vector: [0.653082   0.20219282]\n"
     ]
    }
   ],
   "source": [
    "#11. \n",
    "matrix_2x3 = np.random.rand(2, 3)\n",
    "vector_3 = np.random.rand(3)\n",
    "\n",
    "\n",
    "dot_vector = np.dot(matrix_2x3, vector_3)\n",
    "\n",
    "print(f\"2x3 Matrix:\\n {matrix_2x3}\")\n",
    "print(f\"3-element Vector: {vector_3}\")\n",
    "print(f\"Dot Vector: {dot_vector}\")"
   ]
  },
  {
   "cell_type": "code",
   "execution_count": 16,
   "metadata": {},
   "outputs": [
    {
     "name": "stdout",
     "output_type": "stream",
     "text": [
      "Matrix 1:\n",
      " [[10  8]\n",
      " [ 1  8]]\n",
      "Matrix 2:\n",
      " [[5 7]\n",
      " [4 7]]\n",
      "Elementwise:\n",
      " [[50 56]\n",
      " [ 4 56]]\n"
     ]
    }
   ],
   "source": [
    "#12. \n",
    "matrix1_2x2 = np.random.randint(1, 11, (2, 2))\n",
    "matrix2_2x2 = np.random.randint(1, 11, (2, 2))\n",
    "\n",
    "\n",
    "elementwise = matrix1_2x2 * matrix2_2x2\n",
    "\n",
    "print(f\"Matrix 1:\\n {matrix1_2x2}\")\n",
    "print(f\"Matrix 2:\\n {matrix2_2x2}\")\n",
    "print(f\"Elementwise:\\n {elementwise}\")"
   ]
  },
  {
   "cell_type": "code",
   "execution_count": 17,
   "metadata": {},
   "outputs": [
    {
     "name": "stdout",
     "output_type": "stream",
     "text": [
      "Matrix 1:\n",
      " [[9 4]\n",
      " [2 3]]\n",
      "Matrix 2:\n",
      " [[8 3]\n",
      " [5 2]]\n",
      "Dot Matrix:\n",
      " [[92 35]\n",
      " [31 12]]\n"
     ]
    }
   ],
   "source": [
    "#13. \n",
    "matrix1_2x2 = np.random.randint(1, 11, (2, 2))\n",
    "matrix2_2x2 = np.random.randint(1, 11, (2, 2))\n",
    "\n",
    "dot_matrix = np.dot(matrix1_2x2, matrix2_2x2)\n",
    "\n",
    "print(f\"Matrix 1:\\n {matrix1_2x2}\")\n",
    "print(f\"Matrix 2:\\n {matrix2_2x2}\")\n",
    "print(f\"Dot Matrix:\\n {dot_matrix}\")"
   ]
  },
  {
   "cell_type": "code",
   "execution_count": 18,
   "metadata": {},
   "outputs": [
    {
     "name": "stdout",
     "output_type": "stream",
     "text": [
      "5x5 Matrix:\n",
      " [[15 22 56  3 88]\n",
      " [76 65 30 48 17]\n",
      " [34 99 75 98 38]\n",
      " [16 63 10 41 29]\n",
      " [76 98 59 47 78]]\n",
      "Sum of elements: 1281\n"
     ]
    }
   ],
   "source": [
    "#14. \n",
    "matrix_sum = np.sum(matrix_5x5)\n",
    "\n",
    "print(f\"5x5 Matrix:\\n {matrix_5x5}\")\n",
    "print(f\"Sum of elements: {matrix_sum}\")"
   ]
  },
  {
   "cell_type": "code",
   "execution_count": 19,
   "metadata": {},
   "outputs": [
    {
     "name": "stdout",
     "output_type": "stream",
     "text": [
      "Matrix 1:\n",
      " [[ 4  5  4  9]\n",
      " [ 7  3  7  7]\n",
      " [ 7  7  8  7]\n",
      " [ 6  8  2 10]]\n",
      "Matrix 2:\n",
      " [[ 1  4 10  2]\n",
      " [ 4  8  3  1]\n",
      " [ 9  1  1  9]\n",
      " [ 9 10 10  7]]\n",
      "Matrix Difference:\n",
      " [[ 3  1 -6  7]\n",
      " [ 3 -5  4  6]\n",
      " [-2  6  7 -2]\n",
      " [-3 -2 -8  3]]\n"
     ]
    }
   ],
   "source": [
    "#15.\n",
    "matrix1_4x4 = np.random.randint(1, 11, (4, 4))\n",
    "matrix2_4x4 = np.random.randint(1, 11, (4, 4))\n",
    "\n",
    "\n",
    "matrix_difference = matrix1_4x4 - matrix2_4x4\n",
    "\n",
    "print(f\"Matrix 1:\\n {matrix1_4x4}\")\n",
    "print(f\"Matrix 2:\\n {matrix2_4x4}\")\n",
    "print(f\"Matrix Difference:\\n {matrix_difference}\")"
   ]
  },
  {
   "cell_type": "code",
   "execution_count": 20,
   "metadata": {},
   "outputs": [
    {
     "name": "stdout",
     "output_type": "stream",
     "text": [
      "3x3 Matrix:\n",
      " [[0.25839395 0.23560292 0.52412128]\n",
      " [0.77033038 0.30867953 0.41807275]\n",
      " [0.14284927 0.7012538  0.21645337]]\n",
      "Row sums:\n",
      " [[1.01811815]\n",
      " [1.49708267]\n",
      " [1.06055644]]\n"
     ]
    }
   ],
   "source": [
    "# 16.\n",
    "matrix_3x3 = np.random.rand(3, 3)\n",
    "\n",
    "row_sums = np.sum(matrix_3x3, axis=1).reshape(-1, 1)\n",
    "\n",
    "print(f\"3x3 Matrix:\\n {matrix_3x3}\")\n",
    "print(f\"Row sums:\\n {row_sums}\")"
   ]
  },
  {
   "cell_type": "code",
   "execution_count": 21,
   "metadata": {},
   "outputs": [
    {
     "name": "stdout",
     "output_type": "stream",
     "text": [
      "3x4 Matrix:\n",
      " [[ 6  7  2  2]\n",
      " [ 9  9 10  4]\n",
      " [10  8  6 10]]\n",
      "Squared Matrix:\n",
      " [[ 36  49   4   4]\n",
      " [ 81  81 100  16]\n",
      " [100  64  36 100]]\n"
     ]
    }
   ],
   "source": [
    "#17.\n",
    "matrix_3x4 = np.random.randint(1, 11, (3, 4))\n",
    "\n",
    "squared_matrix = np.square(matrix_3x4)\n",
    "\n",
    "print(f\"3x4 Matrix:\\n {matrix_3x4}\")\n",
    "print(f\"Squared Matrix:\\n {squared_matrix}\")"
   ]
  },
  {
   "cell_type": "code",
   "execution_count": 22,
   "metadata": {},
   "outputs": [
    {
     "name": "stdout",
     "output_type": "stream",
     "text": [
      "Original Vector: [ 7 30 38 25]\n",
      "Square Root Vector: [2.64575131 5.47722558 6.164414   5.        ]\n"
     ]
    }
   ],
   "source": [
    "#18.  \n",
    "vector_4 = np.random.randint(1, 51, 4)\n",
    "\n",
    "\n",
    "sqrt_vector = np.sqrt(vector_4)\n",
    "\n",
    "print(f\"Original Vector: {vector_4}\")\n",
    "print(f\"Square Root Vector: {sqrt_vector}\")"
   ]
  }
 ],
 "metadata": {
  "kernelspec": {
   "display_name": "Python 3",
   "language": "python",
   "name": "python3"
  },
  "language_info": {
   "codemirror_mode": {
    "name": "ipython",
    "version": 3
   },
   "file_extension": ".py",
   "mimetype": "text/x-python",
   "name": "python",
   "nbconvert_exporter": "python",
   "pygments_lexer": "ipython3",
   "version": "3.12.0"
  }
 },
 "nbformat": 4,
 "nbformat_minor": 2
}
